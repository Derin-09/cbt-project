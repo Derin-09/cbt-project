{
 "cells": [
  {
   "cell_type": "code",
   "execution_count": 1,
   "id": "03e51539-7506-4848-81b6-362781348000",
   "metadata": {},
   "outputs": [],
   "source": [
    "import numpy as np"
   ]
  },
  {
   "cell_type": "code",
   "execution_count": 2,
   "id": "258ec628-8090-45f5-9ddf-1857ae46d45c",
   "metadata": {},
   "outputs": [
    {
     "name": "stderr",
     "output_type": "stream",
     "text": [
      "<>:2: SyntaxWarning: list indices must be integers or slices, not tuple; perhaps you missed a comma?\n",
      "C:\\Users\\HP\\AppData\\Local\\Temp\\ipykernel_13092\\297643521.py:2: SyntaxWarning: list indices must be integers or slices, not tuple; perhaps you missed a comma?\n",
      "  arr2 = np.array([1,2] [3,4])\n"
     ]
    },
    {
     "ename": "TypeError",
     "evalue": "list indices must be integers or slices, not tuple",
     "output_type": "error",
     "traceback": [
      "\u001b[31m---------------------------------------------------------------------------\u001b[39m",
      "\u001b[31mTypeError\u001b[39m                                 Traceback (most recent call last)",
      "\u001b[36mCell\u001b[39m\u001b[36m \u001b[39m\u001b[32mIn[2]\u001b[39m\u001b[32m, line 2\u001b[39m\n\u001b[32m      1\u001b[39m arr = np.array([\u001b[32m1\u001b[39m,\u001b[32m2\u001b[39m,\u001b[32m3\u001b[39m,\u001b[32m4\u001b[39m])\n\u001b[32m----> \u001b[39m\u001b[32m2\u001b[39m arr2 = np.array(\u001b[43m[\u001b[49m\u001b[32;43m1\u001b[39;49m\u001b[43m,\u001b[49m\u001b[32;43m2\u001b[39;49m\u001b[43m]\u001b[49m\u001b[43m \u001b[49m\u001b[43m[\u001b[49m\u001b[32;43m3\u001b[39;49m\u001b[43m,\u001b[49m\u001b[32;43m4\u001b[39;49m\u001b[43m]\u001b[49m)\n\u001b[32m      3\u001b[39m \u001b[38;5;28mprint\u001b[39m(arr2)\n",
      "\u001b[31mTypeError\u001b[39m: list indices must be integers or slices, not tuple"
     ]
    }
   ],
   "source": [
    "arr = np.array([1,2,3,4])\n",
    "arr2 = np.array([1,2] [3,4])\n",
    "print(arr2)"
   ]
  },
  {
   "cell_type": "code",
   "execution_count": 3,
   "id": "d7d28847-6f75-4f5b-b150-98a66d36a51d",
   "metadata": {},
   "outputs": [
    {
     "ename": "TypeError",
     "evalue": "Field elements must be 2- or 3-tuples, got '3'",
     "output_type": "error",
     "traceback": [
      "\u001b[31m---------------------------------------------------------------------------\u001b[39m",
      "\u001b[31mTypeError\u001b[39m                                 Traceback (most recent call last)",
      "\u001b[36mCell\u001b[39m\u001b[36m \u001b[39m\u001b[32mIn[3]\u001b[39m\u001b[32m, line 2\u001b[39m\n\u001b[32m      1\u001b[39m arr = np.array([\u001b[32m1\u001b[39m,\u001b[32m2\u001b[39m,\u001b[32m3\u001b[39m,\u001b[32m4\u001b[39m])\n\u001b[32m----> \u001b[39m\u001b[32m2\u001b[39m arr2 = \u001b[43mnp\u001b[49m\u001b[43m.\u001b[49m\u001b[43marray\u001b[49m\u001b[43m(\u001b[49m\u001b[43m[\u001b[49m\u001b[32;43m1\u001b[39;49m\u001b[43m,\u001b[49m\u001b[32;43m2\u001b[39;49m\u001b[43m]\u001b[49m\u001b[43m,\u001b[49m\u001b[43m[\u001b[49m\u001b[32;43m3\u001b[39;49m\u001b[43m,\u001b[49m\u001b[32;43m4\u001b[39;49m\u001b[43m]\u001b[49m\u001b[43m)\u001b[49m\n\u001b[32m      3\u001b[39m \u001b[38;5;28mprint\u001b[39m(arr2)\n",
      "\u001b[31mTypeError\u001b[39m: Field elements must be 2- or 3-tuples, got '3'"
     ]
    }
   ],
   "source": [
    "arr = np.array([1,2,3,4])\n",
    "arr2 = np.array([1,2],[3,4])\n",
    "print(arr2)"
   ]
  },
  {
   "cell_type": "code",
   "execution_count": 4,
   "id": "84451616-72b4-461e-8b7a-548c8895a11c",
   "metadata": {},
   "outputs": [
    {
     "name": "stdout",
     "output_type": "stream",
     "text": [
      "[[1 2]\n",
      " [3 4]]\n"
     ]
    }
   ],
   "source": [
    "arr = np.array([1,2,3,4])\n",
    "arr2 = np.array([[1,2],[3,4]])\n",
    "print(arr2)"
   ]
  },
  {
   "cell_type": "code",
   "execution_count": 5,
   "id": "3fd46e22-74ce-4af6-b061-08bd7c78efad",
   "metadata": {},
   "outputs": [
    {
     "ename": "SyntaxError",
     "evalue": "invalid syntax. Perhaps you forgot a comma? (3030063984.py, line 3)",
     "output_type": "error",
     "traceback": [
      "  \u001b[36mCell\u001b[39m\u001b[36m \u001b[39m\u001b[32mIn[5]\u001b[39m\u001b[32m, line 3\u001b[39m\n\u001b[31m    \u001b[39m\u001b[31mprint('2D:'arr2)\u001b[39m\n          ^\n\u001b[31mSyntaxError\u001b[39m\u001b[31m:\u001b[39m invalid syntax. Perhaps you forgot a comma?\n"
     ]
    }
   ],
   "source": [
    "arr = np.array([1,2,3,4])\n",
    "arr2 = np.array([[1,2],[3,4]])\n",
    "print('2D:'arr2)"
   ]
  },
  {
   "cell_type": "code",
   "execution_count": 6,
   "id": "2fe0545c-c9e3-40fc-8099-5f494d011c92",
   "metadata": {},
   "outputs": [
    {
     "name": "stdout",
     "output_type": "stream",
     "text": [
      "2D: [[1 2]\n",
      " [3 4]]\n"
     ]
    }
   ],
   "source": [
    "arr = np.array([1,2,3,4])\n",
    "arr2 = np.array([[1,2],[3,4]])\n",
    "print('2D:',arr2)"
   ]
  },
  {
   "cell_type": "code",
   "execution_count": 7,
   "id": "3d76cab3-543c-4152-8da8-bec21f4a2c36",
   "metadata": {},
   "outputs": [
    {
     "name": "stdout",
     "output_type": "stream",
     "text": [
      "2D:/n [[1 2]\n",
      " [3 4]]\n"
     ]
    }
   ],
   "source": [
    "arr = np.array([1,2,3,4])\n",
    "arr2 = np.array([[1,2],[3,4]])\n",
    "print('2D:/n', arr2)"
   ]
  },
  {
   "cell_type": "code",
   "execution_count": 8,
   "id": "f43667fc-75fe-4245-bf8d-24513a0647b7",
   "metadata": {},
   "outputs": [
    {
     "name": "stdout",
     "output_type": "stream",
     "text": [
      "2D:\n",
      " [[1 2]\n",
      " [3 4]]\n"
     ]
    }
   ],
   "source": [
    "arr = np.array([1,2,3,4])\n",
    "arr2 = np.array([[1,2],[3,4]])\n",
    "print('2D:\\n', arr2)"
   ]
  },
  {
   "cell_type": "code",
   "execution_count": 9,
   "id": "e143b81a-6e14-4d58-a995-e90422c13669",
   "metadata": {},
   "outputs": [
    {
     "name": "stdout",
     "output_type": "stream",
     "text": [
      "2D:\n",
      " [[ 5 10 15]\n",
      " [20 25 30]]\n"
     ]
    }
   ],
   "source": [
    "arr = np.array([10,20,30,40])\n",
    "arr2 = np.array([[5,10,15],[20,25,30]])\n",
    "print('2D:\\n', arr2)"
   ]
  },
  {
   "cell_type": "code",
   "execution_count": 10,
   "id": "58d16eed-ce9a-4500-9bc0-c6f232b4f7a2",
   "metadata": {},
   "outputs": [
    {
     "name": "stdout",
     "output_type": "stream",
     "text": [
      "[10 20 30 40]\n",
      "2D:\n",
      " [[ 5 10 15]\n",
      " [20 25 30]]\n"
     ]
    }
   ],
   "source": [
    "arr = np.array([10,20,30,40])\n",
    "arr2 = np.array([[5,10,15],[20,25,30]])\n",
    "print(arr)\n",
    "print('2D:\\n', arr2)"
   ]
  },
  {
   "cell_type": "code",
   "execution_count": 11,
   "id": "7924914f-d6a0-48af-90cd-63de0c3108d8",
   "metadata": {},
   "outputs": [
    {
     "name": "stdout",
     "output_type": "stream",
     "text": [
      "(4,)\n",
      "1\n",
      "int64\n",
      "6\n"
     ]
    }
   ],
   "source": [
    "print(arr.shape)      \n",
    "print(arr.ndim)     \n",
    "print(arr.dtype)      \n",
    "print(arr2.size)   "
   ]
  },
  {
   "cell_type": "code",
   "execution_count": 12,
   "id": "c04ae9c8-fe3a-4909-9e59-63410df8232c",
   "metadata": {},
   "outputs": [
    {
     "name": "stdout",
     "output_type": "stream",
     "text": [
      "[ 3  7 11]\n",
      "[ 2 12 30]\n",
      "[1 1 1]\n",
      "[12 14 16]\n",
      "[12 14 16]\n"
     ]
    }
   ],
   "source": [
    "x = np.array([2,4,6])\n",
    "y = np.array([1,3,5])\n",
    "print(x + y)\n",
    "print(x * y)\n",
    "print(x - y)\n",
    "print(x + 10)\n",
    "print(10 + x)"
   ]
  },
  {
   "cell_type": "code",
   "execution_count": 13,
   "id": "42f22234-cc5c-4d04-9580-f041bca6f980",
   "metadata": {},
   "outputs": [
    {
     "name": "stdout",
     "output_type": "stream",
     "text": [
      "[1 2 3]\n",
      "[2 5]\n",
      "6\n",
      "[1 2 3 4 5 6]\n",
      "[[1 2 3]\n",
      " [4 5 6]]\n"
     ]
    }
   ],
   "source": [
    "arr = np.array([[1, 2, 3], [4, 5, 6]])\n",
    "\n",
    "print(arr[0])      \n",
    "print(arr[:, 1])    \n",
    "print(arr[1, 2])   \n",
    "\n",
    "flat = arr.reshape(6)\n",
    "print(flat)\n",
    "\n",
    "square = flat.reshape(2, 3)\n",
    "print(square)\n"
   ]
  },
  {
   "cell_type": "code",
   "execution_count": 14,
   "id": "42bfa3ac-ceb7-4fd9-b44a-28d07d616e29",
   "metadata": {},
   "outputs": [],
   "source": [
    "rando = np.random.randint(1, 100, size=(3,4))"
   ]
  },
  {
   "cell_type": "code",
   "execution_count": 15,
   "id": "8a29ca84-7094-4959-b344-5b752cf7f740",
   "metadata": {},
   "outputs": [
    {
     "name": "stdout",
     "output_type": "stream",
     "text": [
      "[[15 19 81 84]\n",
      " [ 4 29 36  6]\n",
      " [65 99 14 46]]\n"
     ]
    }
   ],
   "source": [
    "rando = np.random.randint(1, 100, size=(3,4))\n",
    "print(rando)"
   ]
  },
  {
   "cell_type": "code",
   "execution_count": 16,
   "id": "6655cd4f-2ff4-49d2-b9df-01d48ae79577",
   "metadata": {},
   "outputs": [
    {
     "name": "stdout",
     "output_type": "stream",
     "text": [
      "Mean 41.5\n",
      "Max 99\n",
      "Min 4\n"
     ]
    }
   ],
   "source": [
    "print(\"Mean\", rando.mean())\n",
    "print(\"Max\", rando.max())\n",
    "print(\"Min\", rando.min())"
   ]
  },
  {
   "cell_type": "code",
   "execution_count": 17,
   "id": "9d7a62e8-1bf8-41f8-9bd2-002bcbf067fb",
   "metadata": {},
   "outputs": [
    {
     "name": "stdout",
     "output_type": "stream",
     "text": [
      "   Name  Age Language\n",
      "0  Fave    1   Python\n",
      "1  Gavv    4     Java\n",
      "2  Hacc    6     Savv\n"
     ]
    }
   ],
   "source": [
    "import pandas as pd\n",
    "data = {\n",
    "    \"Name\": [\"Fave\", \"Gavv\", \"Hacc\"],\n",
    "    \"Age\": [1, 4, 6],\n",
    "    \"Language\": [\"Python\", \"Java\", \"Savv\"]\n",
    "}\n",
    "df = pd.DataFrame(data)\n",
    "print(df)"
   ]
  },
  {
   "cell_type": "code",
   "execution_count": 18,
   "id": "35d46862-9f21-4f6b-84eb-0468a1002e0c",
   "metadata": {},
   "outputs": [
    {
     "name": "stdout",
     "output_type": "stream",
     "text": [
      "    Items  Price  In_Stock\n",
      "0  Banana     30      True\n",
      "1  Laptop  30000     False\n",
      "2  Pencil     50      True\n"
     ]
    }
   ],
   "source": [
    "import pandas as pd\n",
    "data = {\n",
    "    \"Items\": [\"Banana\", \"Laptop\", \"Pencil\"],\n",
    "    \"Price\": [30, 30000, 50],\n",
    "    \"In_Stock\": [True, False, True]\n",
    "}\n",
    "shop = pd.DataFrame(data)\n",
    "print(shop)"
   ]
  },
  {
   "cell_type": "code",
   "execution_count": 19,
   "id": "830707d8-ec50-4150-93ee-9a0c1d4a4cb3",
   "metadata": {},
   "outputs": [
    {
     "name": "stdout",
     "output_type": "stream",
     "text": [
      "    Items  Price  In_Stock\n",
      "0  Banana     30      True\n",
      "1  Laptop  30000     False\n",
      "2  Pencil     50      True\n",
      "Index(['Items', 'Price', 'In_Stock'], dtype='object')\n",
      "<class 'pandas.core.frame.DataFrame'>\n",
      "RangeIndex: 3 entries, 0 to 2\n",
      "Data columns (total 3 columns):\n",
      " #   Column    Non-Null Count  Dtype \n",
      "---  ------    --------------  ----- \n",
      " 0   Items     3 non-null      object\n",
      " 1   Price     3 non-null      int64 \n",
      " 2   In_Stock  3 non-null      bool  \n",
      "dtypes: bool(1), int64(1), object(1)\n",
      "memory usage: 183.0+ bytes\n",
      "None\n",
      "              Price\n",
      "count      3.000000\n",
      "mean   10026.666667\n",
      "std    17297.416956\n",
      "min       30.000000\n",
      "25%       40.000000\n",
      "50%       50.000000\n",
      "75%    15025.000000\n",
      "max    30000.000000\n"
     ]
    }
   ],
   "source": [
    "print(shop.head()) \n",
    "print(shop.columns) \n",
    "print(shop.info())\n",
    "print(shop.describe())"
   ]
  },
  {
   "cell_type": "code",
   "execution_count": 20,
   "id": "1e8c8df1-04c0-4ec8-baa1-b441bb78d304",
   "metadata": {},
   "outputs": [
    {
     "name": "stdout",
     "output_type": "stream",
     "text": [
      "0       30\n",
      "1    30000\n",
      "2       50\n",
      "Name: Price, dtype: int64\n",
      "    Items  Price  In_Stock\n",
      "0  Banana     30      True\n",
      "2  Pencil     50      True\n",
      "    Items  Price  In_Stock\n",
      "1  Laptop  30000     False\n"
     ]
    }
   ],
   "source": [
    "print(shop[\"Price\"])\n",
    "print(shop[shop[\"In_Stock\"] == True])\n",
    "print(shop[shop[\"Price\"] > 1000])"
   ]
  },
  {
   "cell_type": "code",
   "execution_count": 21,
   "id": "47bbca98-3f45-445e-a859-bbc8fdc4cd0b",
   "metadata": {},
   "outputs": [
    {
     "name": "stdout",
     "output_type": "stream",
     "text": [
      "   PassengerId  Survived  Pclass  \\\n",
      "0            1         0       3   \n",
      "1            2         1       1   \n",
      "2            3         1       3   \n",
      "3            4         1       1   \n",
      "4            5         0       3   \n",
      "\n",
      "                                                Name     Sex   Age  SibSp  \\\n",
      "0                            Braund, Mr. Owen Harris    male  22.0      1   \n",
      "1  Cumings, Mrs. John Bradley (Florence Briggs Th...  female  38.0      1   \n",
      "2                             Heikkinen, Miss. Laina  female  26.0      0   \n",
      "3       Futrelle, Mrs. Jacques Heath (Lily May Peel)  female  35.0      1   \n",
      "4                           Allen, Mr. William Henry    male  35.0      0   \n",
      "\n",
      "   Parch            Ticket     Fare Cabin Embarked  \n",
      "0      0         A/5 21171   7.2500   NaN        S  \n",
      "1      0          PC 17599  71.2833   C85        C  \n",
      "2      0  STON/O2. 3101282   7.9250   NaN        S  \n",
      "3      0            113803  53.1000  C123        S  \n",
      "4      0            373450   8.0500   NaN        S  \n"
     ]
    }
   ],
   "source": [
    "url = \"https://raw.githubusercontent.com/datasciencedojo/datasets/master/titanic.csv\"\n",
    "titanic = pd.read_csv(url)\n",
    "print(titanic.head())"
   ]
  },
  {
   "cell_type": "code",
   "execution_count": 22,
   "id": "eb4fb44e-0273-486b-ac75-813682b243b5",
   "metadata": {},
   "outputs": [
    {
     "name": "stdout",
     "output_type": "stream",
     "text": [
      "<class 'pandas.core.frame.DataFrame'>\n",
      "RangeIndex: 891 entries, 0 to 890\n",
      "Data columns (total 12 columns):\n",
      " #   Column       Non-Null Count  Dtype  \n",
      "---  ------       --------------  -----  \n",
      " 0   PassengerId  891 non-null    int64  \n",
      " 1   Survived     891 non-null    int64  \n",
      " 2   Pclass       891 non-null    int64  \n",
      " 3   Name         891 non-null    object \n",
      " 4   Sex          891 non-null    object \n",
      " 5   Age          714 non-null    float64\n",
      " 6   SibSp        891 non-null    int64  \n",
      " 7   Parch        891 non-null    int64  \n",
      " 8   Ticket       891 non-null    object \n",
      " 9   Fare         891 non-null    float64\n",
      " 10  Cabin        204 non-null    object \n",
      " 11  Embarked     889 non-null    object \n",
      "dtypes: float64(2), int64(5), object(5)\n",
      "memory usage: 83.7+ KB\n",
      "None\n",
      "       PassengerId    Survived      Pclass         Age       SibSp  \\\n",
      "count   891.000000  891.000000  891.000000  714.000000  891.000000   \n",
      "mean    446.000000    0.383838    2.308642   29.699118    0.523008   \n",
      "std     257.353842    0.486592    0.836071   14.526497    1.102743   \n",
      "min       1.000000    0.000000    1.000000    0.420000    0.000000   \n",
      "25%     223.500000    0.000000    2.000000   20.125000    0.000000   \n",
      "50%     446.000000    0.000000    3.000000   28.000000    0.000000   \n",
      "75%     668.500000    1.000000    3.000000   38.000000    1.000000   \n",
      "max     891.000000    1.000000    3.000000   80.000000    8.000000   \n",
      "\n",
      "            Parch        Fare  \n",
      "count  891.000000  891.000000  \n",
      "mean     0.381594   32.204208  \n",
      "std      0.806057   49.693429  \n",
      "min      0.000000    0.000000  \n",
      "25%      0.000000    7.910400  \n",
      "50%      0.000000   14.454200  \n",
      "75%      0.000000   31.000000  \n",
      "max      6.000000  512.329200  \n",
      "Survived\n",
      "0    549\n",
      "1    342\n",
      "Name: count, dtype: int64\n"
     ]
    }
   ],
   "source": [
    "print(titanic.info())\n",
    "print(titanic.describe())\n",
    "print(titanic[\"Survived\"].value_counts())"
   ]
  },
  {
   "cell_type": "code",
   "execution_count": null,
   "id": "5efa6f10-9cbf-4ce9-a870-37f57595b9d3",
   "metadata": {},
   "outputs": [],
   "source": []
  }
 ],
 "metadata": {
  "kernelspec": {
   "display_name": "Python 3 (ipykernel)",
   "language": "python",
   "name": "python3"
  },
  "language_info": {
   "codemirror_mode": {
    "name": "ipython",
    "version": 3
   },
   "file_extension": ".py",
   "mimetype": "text/x-python",
   "name": "python",
   "nbconvert_exporter": "python",
   "pygments_lexer": "ipython3",
   "version": "3.13.5"
  }
 },
 "nbformat": 4,
 "nbformat_minor": 5
}
